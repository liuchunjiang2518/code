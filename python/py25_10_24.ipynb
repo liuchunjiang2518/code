{
 "cells": [
  {
   "cell_type": "code",
   "execution_count": null,
   "id": "0fcddcfa",
   "metadata": {},
   "outputs": [],
   "source": [
    "import numpy as np"
   ]
  },
  {
   "cell_type": "code",
   "execution_count": null,
   "id": "e2a32cf5",
   "metadata": {},
   "outputs": [],
   "source": [
    "names=np.array(['Bob','James','John','Bob','Bob'])\n",
    "names\n",
    "names=='Bob'"
   ]
  },
  {
   "cell_type": "code",
   "execution_count": null,
   "id": "58cd110e",
   "metadata": {},
   "outputs": [],
   "source": [
    "names[names=='Bob']"
   ]
  },
  {
   "cell_type": "code",
   "execution_count": null,
   "id": "c6f9b787",
   "metadata": {},
   "outputs": [],
   "source": [
    "data=np.random.randn(7,4)\n",
    "data"
   ]
  },
  {
   "cell_type": "code",
   "execution_count": null,
   "id": "8d18b052",
   "metadata": {},
   "outputs": [],
   "source": [
    "data>0"
   ]
  },
  {
   "cell_type": "code",
   "execution_count": null,
   "id": "aaaaa8f5",
   "metadata": {},
   "outputs": [],
   "source": [
    "data[data>0]"
   ]
  },
  {
   "cell_type": "code",
   "execution_count": null,
   "id": "f8f3d4b8",
   "metadata": {},
   "outputs": [],
   "source": [
    "data[(data<0)]=0\n",
    "data"
   ]
  },
  {
   "cell_type": "code",
   "execution_count": null,
   "id": "4ca66eda",
   "metadata": {},
   "outputs": [],
   "source": [
    "names[(names=='Bob')|(names=='John')]"
   ]
  },
  {
   "cell_type": "code",
   "execution_count": null,
   "id": "4d4b0d1b",
   "metadata": {},
   "outputs": [],
   "source": [
    "arr=np.random.randint(1,10,(4,5))\n",
    "arr"
   ]
  },
  {
   "cell_type": "code",
   "execution_count": null,
   "id": "6b774d47",
   "metadata": {},
   "outputs": [],
   "source": [
    "# 和\n",
    "np.sum(arr) "
   ]
  },
  {
   "cell_type": "code",
   "execution_count": null,
   "id": "588666ef",
   "metadata": {},
   "outputs": [],
   "source": [
    "# 每一行的和\n",
    "np.sum(arr,axis=1)"
   ]
  },
  {
   "cell_type": "code",
   "execution_count": null,
   "id": "8ca00829",
   "metadata": {},
   "outputs": [],
   "source": [
    "# 每一列的和\n",
    "np.sum(arr,axis=0)"
   ]
  },
  {
   "cell_type": "code",
   "execution_count": null,
   "id": "39ca0d83",
   "metadata": {},
   "outputs": [],
   "source": [
    "import pandas as pd"
   ]
  },
  {
   "cell_type": "code",
   "execution_count": null,
   "id": "2a25027c",
   "metadata": {},
   "outputs": [],
   "source": [
    "from pandas import Series,DataFrame"
   ]
  },
  {
   "cell_type": "code",
   "execution_count": null,
   "id": "dbf1895f",
   "metadata": {},
   "outputs": [],
   "source": [
    "# Series：带索引的一维数组 属性index和values\n",
    "# 数字形式的索引\n",
    "s=Series(['a','b','c','d','e'])\n",
    "s"
   ]
  },
  {
   "cell_type": "code",
   "execution_count": null,
   "id": "0cdd5832",
   "metadata": {},
   "outputs": [],
   "source": [
    "s=Series(['a','b','c','d','e'],index=[1,2,3,4,5])\n",
    "s"
   ]
  },
  {
   "cell_type": "code",
   "execution_count": null,
   "id": "355e468a",
   "metadata": {},
   "outputs": [],
   "source": [
    "s=Series(np.arange(5),index=['a','b','c','d','e'])\n",
    "s"
   ]
  },
  {
   "cell_type": "code",
   "execution_count": null,
   "id": "35e480bd",
   "metadata": {},
   "outputs": [],
   "source": [
    "s['d']"
   ]
  },
  {
   "cell_type": "code",
   "execution_count": null,
   "id": "7950747b",
   "metadata": {},
   "outputs": [],
   "source": [
    "s[['a','b','c']]=1\n",
    "s>=3\n",
    "s['a']"
   ]
  },
  {
   "cell_type": "code",
   "execution_count": null,
   "id": "a395d635",
   "metadata": {},
   "outputs": [],
   "source": [
    "s*2"
   ]
  },
  {
   "cell_type": "code",
   "execution_count": null,
   "id": "44a887a3",
   "metadata": {},
   "outputs": [],
   "source": [
    "# 使用字典创建Series key变为index value变为values\n",
    "data={\"Beijing\":2000,\"Hangzhou\":1800,\"Tianjing\":1500}\n",
    "s=Series(data)\n",
    "s=Series(data,index=[\"Beijing\",\"Hangzhou\",\"Nanjing\"])\n",
    "s\n"
   ]
  },
  {
   "cell_type": "code",
   "execution_count": null,
   "id": "dcceb487",
   "metadata": {},
   "outputs": [],
   "source": [
    "# 获取s中为空的值\n",
    "pd.isnull(s)\n",
    "# 非空\n",
    "pd.notnull(s)"
   ]
  },
  {
   "cell_type": "code",
   "execution_count": null,
   "id": "c205e8ca",
   "metadata": {},
   "outputs": [],
   "source": [
    "s[pd.isnull(s)]=1500\n",
    "s"
   ]
  },
  {
   "cell_type": "code",
   "execution_count": 111,
   "id": "c2c2089c",
   "metadata": {},
   "outputs": [],
   "source": [
    "data1={\"Beijing\":2000,\"Nanjing\":1800,\"Chendu\":1500}\n",
    "data2={\"Hangzhou\":1800,\"Shanghai\":2000,\"Xi\\'an\":1600}\n",
    "s1=Series(data1)\n",
    "s2=Series(data2)"
   ]
  },
  {
   "cell_type": "code",
   "execution_count": null,
   "id": "7d5b5384",
   "metadata": {},
   "outputs": [],
   "source": [
    "display(s1,s2)"
   ]
  },
  {
   "cell_type": "code",
   "execution_count": 115,
   "id": "3645b7da",
   "metadata": {},
   "outputs": [
    {
     "data": {
      "text/plain": [
       "Beijing    2234\n",
       "Chendu     2067\n",
       "Nanjing    1900\n",
       "dtype: int64"
      ]
     },
     "execution_count": 115,
     "metadata": {},
     "output_type": "execute_result"
    }
   ],
   "source": [
    "data3={\"Beijing\":234,\"Chendu\":567,\"Nanjing\":100}\n",
    "s3=Series(data3)\n",
    "s1+s3"
   ]
  },
  {
   "cell_type": "code",
   "execution_count": 121,
   "id": "e2fc852e",
   "metadata": {},
   "outputs": [
    {
     "data": {
      "text/html": [
       "<div>\n",
       "<style scoped>\n",
       "    .dataframe tbody tr th:only-of-type {\n",
       "        vertical-align: middle;\n",
       "    }\n",
       "\n",
       "    .dataframe tbody tr th {\n",
       "        vertical-align: top;\n",
       "    }\n",
       "\n",
       "    .dataframe thead th {\n",
       "        text-align: right;\n",
       "    }\n",
       "</style>\n",
       "<table border=\"1\" class=\"dataframe\">\n",
       "  <thead>\n",
       "    <tr style=\"text-align: right;\">\n",
       "      <th></th>\n",
       "      <th>city</th>\n",
       "      <th>year</th>\n",
       "      <th>people</th>\n",
       "    </tr>\n",
       "  </thead>\n",
       "  <tbody>\n",
       "    <tr>\n",
       "      <th>0</th>\n",
       "      <td>Beijing</td>\n",
       "      <td>2017</td>\n",
       "      <td>156</td>\n",
       "    </tr>\n",
       "    <tr>\n",
       "      <th>1</th>\n",
       "      <td>Chendu</td>\n",
       "      <td>2018</td>\n",
       "      <td>569</td>\n",
       "    </tr>\n",
       "    <tr>\n",
       "      <th>2</th>\n",
       "      <td>Shanghai</td>\n",
       "      <td>2019</td>\n",
       "      <td>364</td>\n",
       "    </tr>\n",
       "  </tbody>\n",
       "</table>\n",
       "</div>"
      ],
      "text/plain": [
       "       city  year  people\n",
       "0   Beijing  2017     156\n",
       "1    Chendu  2018     569\n",
       "2  Shanghai  2019     364"
      ]
     },
     "execution_count": 121,
     "metadata": {},
     "output_type": "execute_result"
    }
   ],
   "source": [
    "# DataFrame\n",
    "# 结构化数据 半结构化数据 非结构化数据\n",
    "data={\"city\":[\"Beijing\",\"Chendu\",\"Shanghai\"],\n",
    "      \"year\":[2017,2018,2019],\n",
    "      \"people\":[156,569,364]\n",
    "     }\n",
    "df=DataFrame(data)\n",
    "df"
   ]
  },
  {
   "cell_type": "code",
   "execution_count": 123,
   "id": "0203bef2",
   "metadata": {},
   "outputs": [
    {
     "data": {
      "text/plain": [
       "Index(['city', 'year', 'people'], dtype='object')"
      ]
     },
     "execution_count": 123,
     "metadata": {},
     "output_type": "execute_result"
    }
   ],
   "source": [
    "df.columns"
   ]
  },
  {
   "cell_type": "code",
   "execution_count": 127,
   "id": "a886c591",
   "metadata": {},
   "outputs": [
    {
     "name": "stdout",
     "output_type": "stream",
     "text": [
      "<class 'pandas.core.frame.DataFrame'>\n",
      "RangeIndex: 3 entries, 0 to 2\n",
      "Data columns (total 3 columns):\n",
      " #   Column  Non-Null Count  Dtype \n",
      "---  ------  --------------  ----- \n",
      " 0   city    3 non-null      object\n",
      " 1   year    3 non-null      int64 \n",
      " 2   people  3 non-null      int64 \n",
      "dtypes: int64(2), object(1)\n",
      "memory usage: 204.0+ bytes\n"
     ]
    },
    {
     "data": {
      "text/plain": [
       "(3, 3)"
      ]
     },
     "execution_count": 127,
     "metadata": {},
     "output_type": "execute_result"
    }
   ],
   "source": [
    "df.info()\n",
    "df.shape"
   ]
  },
  {
   "cell_type": "code",
   "execution_count": null,
   "id": "397f52f1",
   "metadata": {},
   "outputs": [],
   "source": []
  }
 ],
 "metadata": {
  "kernelspec": {
   "display_name": "base",
   "language": "python",
   "name": "python3"
  },
  "language_info": {
   "codemirror_mode": {
    "name": "ipython",
    "version": 3
   },
   "file_extension": ".py",
   "mimetype": "text/x-python",
   "name": "python",
   "nbconvert_exporter": "python",
   "pygments_lexer": "ipython3",
   "version": "3.12.4"
  }
 },
 "nbformat": 4,
 "nbformat_minor": 5
}
