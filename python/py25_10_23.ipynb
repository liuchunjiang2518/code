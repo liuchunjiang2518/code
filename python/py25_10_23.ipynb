{
 "cells": [
  {
   "cell_type": "code",
   "execution_count": null,
   "id": "4a75b1a6",
   "metadata": {},
   "outputs": [],
   "source": [
    "import numpy as np"
   ]
  },
  {
   "cell_type": "code",
   "execution_count": null,
   "id": "ccd638cd",
   "metadata": {},
   "outputs": [],
   "source": [
    "lin=np.linspace(0,9,num=10)\n",
    "lin"
   ]
  },
  {
   "cell_type": "code",
   "execution_count": null,
   "id": "177fcd13",
   "metadata": {},
   "outputs": [],
   "source": [
    "print(np.linspace(0,10,num=100,endpoint=False))"
   ]
  },
  {
   "cell_type": "code",
   "execution_count": null,
   "id": "e781bfb1",
   "metadata": {},
   "outputs": [],
   "source": [
    "# 根据lambda的表达式结果创建一个数组\n",
    "m=np.fromfunction(lambda x,y:(x+1)*(y+1),(9,9))\n",
    "m"
   ]
  },
  {
   "cell_type": "code",
   "execution_count": null,
   "id": "1d69af31",
   "metadata": {},
   "outputs": [],
   "source": [
    "# ndarray 的数据类型\n",
    "arr=np.array([1,2,3,4,5],dtype=np.float64)\n",
    "arr"
   ]
  },
  {
   "cell_type": "code",
   "execution_count": null,
   "id": "d1f3edb5",
   "metadata": {},
   "outputs": [],
   "source": [
    "arr=np.array([1,2,3,'a'])\n",
    "arr"
   ]
  },
  {
   "cell_type": "code",
   "execution_count": null,
   "id": "2d7e5b43",
   "metadata": {},
   "outputs": [],
   "source": [
    "# 随机数组 0~150 形状(2,3)\n",
    "np.random.randint(0,150,(2,3))"
   ]
  },
  {
   "cell_type": "code",
   "execution_count": null,
   "id": "2835f9eb",
   "metadata": {},
   "outputs": [],
   "source": [
    "# 产生指定形状随机数组，符合正态分布\n",
    "np.random.randn(2,3,4)"
   ]
  },
  {
   "cell_type": "code",
   "execution_count": null,
   "id": "6afb7122",
   "metadata": {},
   "outputs": [],
   "source": [
    "arr=np.array([[1,2,3],[4,5,6]])\n",
    "arr*2\n",
    "np.add(arr,arr)\n",
    "arr*arr"
   ]
  },
  {
   "cell_type": "code",
   "execution_count": null,
   "id": "a9a0d9f1",
   "metadata": {},
   "outputs": [],
   "source": [
    "a1=np.random.randint(0,100,(2,3))\n",
    "a2=np.random.randint(0,100,(3,2))\n",
    "# 矩阵运算\n",
    "np.dot(a1,a2)"
   ]
  },
  {
   "cell_type": "code",
   "execution_count": null,
   "id": "7fb1859b",
   "metadata": {},
   "outputs": [],
   "source": [
    "arr=np.arange(0,10,0.2)\n",
    "arr[[1,2]]=[23,43]\n",
    "arr"
   ]
  },
  {
   "cell_type": "code",
   "execution_count": null,
   "id": "4d8ea4c7",
   "metadata": {},
   "outputs": [],
   "source": [
    "arr=np.arange(0,10)\n",
    "arr[0:8]\n",
    "arr[::-1]\n",
    "arr2=arr[1:4]\n",
    "arr2[0:3]=1\n",
    "arr"
   ]
  },
  {
   "cell_type": "code",
   "execution_count": null,
   "id": "734505d9",
   "metadata": {},
   "outputs": [],
   "source": [
    "arr=np.arange(12)\n",
    "arr"
   ]
  }
 ],
 "metadata": {
  "kernelspec": {
   "display_name": "base",
   "language": "python",
   "name": "python3"
  },
  "language_info": {
   "codemirror_mode": {
    "name": "ipython",
    "version": 3
   },
   "file_extension": ".py",
   "mimetype": "text/x-python",
   "name": "python",
   "nbconvert_exporter": "python",
   "pygments_lexer": "ipython3",
   "version": "3.12.4"
  }
 },
 "nbformat": 4,
 "nbformat_minor": 5
}
